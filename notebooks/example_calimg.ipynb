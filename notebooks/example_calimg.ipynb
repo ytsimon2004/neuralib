{
 "cells": [
  {
   "cell_type": "markdown",
   "id": "12b07e51-b7f2-4b86-8844-7867d55f23d7",
   "metadata": {},
   "source": [
    "# Example usage of `neuralib.calimg`"
   ]
  },
  {
   "cell_type": "markdown",
   "id": "0a912413-b829-4f35-8877-61715a4b1dad",
   "metadata": {},
   "source": [
    "- example of **Scanbox** acqusition system and **suite2p** registration"
   ]
  },
  {
   "cell_type": "code",
   "execution_count": 1,
   "id": "996c4a73-161e-4585-a076-036510da5ab6",
   "metadata": {},
   "outputs": [],
   "source": [
    "import numpy as np\n",
    "import matplotlib.pyplot as plt\n",
    "\n",
    "from neuralib.calimg.scanbox import SBXInfo\n",
    "from neuralib.calimg.scanbox.viewer import SBXViewer\n",
    "from neuralib.calimg.suite2p import *"
   ]
  },
  {
   "cell_type": "code",
   "execution_count": 2,
   "id": "1e8aace3-4a76-4e94-8a3e-849f6b598429",
   "metadata": {},
   "outputs": [],
   "source": [
    "%load_ext autoreload\n",
    "%autoreload"
   ]
  },
  {
   "cell_type": "markdown",
   "id": "30ada4ac-8762-4d77-8d4b-74831c58d4a9",
   "metadata": {},
   "source": [
    "### print the Scanbox information as dictionary"
   ]
  },
  {
   "cell_type": "code",
   "execution_count": 3,
   "id": "0b18824f-1fac-48e7-8cac-b2cacb8c18f5",
   "metadata": {},
   "outputs": [
    {
     "name": "stdout",
     "output_type": "stream",
     "text": [
      "{'abort_bit': 0,\n",
      " 'area_line': 1,\n",
      " 'ballmotion': array([], dtype=uint8),\n",
      " 'bytesPerBuffer': 9504000,\n",
      " 'calibration': [{'delta': array([ 99.9927, -99.9927]),\n",
      "                  'gain_resonant_mult': 1,\n",
      "                  'uv': array([50, 57], dtype=uint8),\n",
      "                  'x': 1.7542578947368421,\n",
      "                  'y': -1.999854},\n",
      "                 {'delta': array([ 99.9927, -99.9927]),\n",
      "                  'gain_resonant_mult': 1,\n",
      "                  'uv': array([54, 62], dtype=uint8),\n",
      "                  'x': 1.6127854838709677,\n",
      "                  'y': -1.8517166666666667},\n",
      "                 {'delta': array([ 79.6727, -79.6727]),\n",
      "                  'gain_resonant_mult': 1,\n",
      "                  'uv': array([55, 62], dtype=uint8),\n",
      "                  'x': 1.2850435483870968,\n",
      "                  'y': -1.4485945454545455},\n",
      "                 {'delta': array([ 69.5127, -69.5127]),\n",
      "                  'gain_resonant_mult': 1,\n",
      "                  'uv': array([55, 62], dtype=uint8),\n",
      "                  'x': 1.1211725806451611,\n",
      "                  'y': -1.2638672727272726},\n",
      "                 {'delta': array([ 59.3725, -59.3725]),\n",
      "                  'gain_resonant_mult': 1,\n",
      "                  'uv': array([59, 66], dtype=uint8),\n",
      "                  'x': 0.8995833333333334,\n",
      "                  'y': -1.006313559322034},\n",
      "                 {'delta': array([ 49.9864, -49.9864]),\n",
      "                  'gain_resonant_mult': 1,\n",
      "                  'uv': array([57, 63], dtype=uint8),\n",
      "                  'x': 0.7934349206349207,\n",
      "                  'y': -0.8769543859649124},\n",
      "                 {'delta': array([ 39.8264, -39.8264]),\n",
      "                  'gain_resonant_mult': 1,\n",
      "                  'uv': array([55, 62], dtype=uint8),\n",
      "                  'x': 0.6423612903225806,\n",
      "                  'y': -0.7241163636363637},\n",
      "                 {'delta': array([ 34.3694, -34.3694]),\n",
      "                  'gain_resonant_mult': 1,\n",
      "                  'uv': array([56, 63], dtype=uint8),\n",
      "                  'x': 0.5455460317460318,\n",
      "                  'y': -0.6137392857142857},\n",
      "                 {'delta': array([ 29.6863, -29.6863]),\n",
      "                  'gain_resonant_mult': 1,\n",
      "                  'uv': array([58, 66], dtype=uint8),\n",
      "                  'x': 0.4497924242424242,\n",
      "                  'y': -0.5118327586206897},\n",
      "                 {'delta': array([ 24.9833, -24.9833]),\n",
      "                  'gain_resonant_mult': 1,\n",
      "                  'uv': array([59, 65], dtype=uint8),\n",
      "                  'x': 0.38435846153846154,\n",
      "                  'y': -0.4234457627118644},\n",
      "                 {'delta': array([ 19.5263, -19.5263]),\n",
      "                  'gain_resonant_mult': 1,\n",
      "                  'uv': array([54, 58], dtype=uint8),\n",
      "                  'x': 0.33666034482758617,\n",
      "                  'y': -0.3615981481481481},\n",
      "                 {'delta': array([ 19.5263, -19.5263]),\n",
      "                  'gain_resonant_mult': 1,\n",
      "                  'uv': array([65, 71], dtype=uint8),\n",
      "                  'x': 0.27501830985915493,\n",
      "                  'y': -0.3004046153846154},\n",
      "                 {'delta': array([ 14.8431, -14.8431]),\n",
      "                  'gain_resonant_mult': 1,\n",
      "                  'uv': array([59, 62], dtype=uint8),\n",
      "                  'x': 0.2394048387096774,\n",
      "                  'y': -0.2515779661016949}],\n",
      " 'channels': 2,\n",
      " 'config': {'agc': {'agc_prctile': array([1.e-05, 1.e-04]),\n",
      "                    'enable': 0,\n",
      "                    'threshold': 250},\n",
      "            'coord_abs': array([  -312.975625  ,    499.28859375, -11021.09375   ,      0.        ]),\n",
      "            'coord_rel': array([  -312.975625  ,    499.28859375, -11021.09375   ,      0.        ]),\n",
      "            'frame_times': array([4.800000e-02, 8.100000e-02, 1.140000e-01, ..., 3.606479e+03,\n",
      "       3.606515e+03, 3.606549e+03]),\n",
      "            'frames': 108128,\n",
      "            'host_name': [],\n",
      "            'knobby': {'pos': {'a': 0, 'x': 0, 'y': 0, 'z': -300.78},\n",
      "                       'schedule': array([[  0,   0,  10,   0,  30],\n",
      "       [  0,   0,  10,   0,  60],\n",
      "       [  0,   0,  10,   0,  90],\n",
      "       [  0,   0,  10,   0, 120],\n",
      "       [  0,   0,  10,   0, 150],\n",
      "       [  0,   0,  10,   0, 180]], dtype=uint8)},\n",
      "            'laser_power': 204.00000000000003,\n",
      "            'laser_power_perc': ' 80%',\n",
      "            'lines': 528,\n",
      "            'magnification': 4,\n",
      "            'magnification_list': array(['1.0', '1.2', '1.4', '1.7', '2.0', '2.4', '2.8', '3.4', '4.0',\n",
      "       '4.8', '5.7', '6.7', '8.0'], dtype='<U3'),\n",
      "            'objective': {'name': 'Nikon 16x/0.8w/WD3.0'},\n",
      "            'objective_type': 1,\n",
      "            'pmt0_gain': 0.68,\n",
      "            'pmt1_gain': 0.55,\n",
      "            'wavelength': 920},\n",
      " 'messages': array([], dtype=object),\n",
      " 'nchan': None,\n",
      " 'objective': 'Nikon 16x/0.8w/WD3.0',\n",
      " 'opto2pow': array([], dtype=uint8),\n",
      " 'otparam': array([], dtype=uint8),\n",
      " 'otwave': array([], dtype=uint8),\n",
      " 'otwave_um': array([], dtype=uint8),\n",
      " 'otwavestyle': 1,\n",
      " 'postTriggerSamples': 9000,\n",
      " 'power_depth_link': 0,\n",
      " 'recordsPerBuffer': 264,\n",
      " 'resfreq': 7915,\n",
      " 'scanbox_version': '2',\n",
      " 'scanmode': 0,\n",
      " 'sz': array([528, 796], dtype=uint16),\n",
      " 'usernotes': array([], dtype='<U1'),\n",
      " 'volscan': 0}\n"
     ]
    }
   ],
   "source": [
    "file = ...  # scanbox .mat output file\n",
    "sbx = SBXInfo.load(file)\n",
    "sbx.print_asdict()"
   ]
  },
  {
   "cell_type": "markdown",
   "id": "be51febb-977d-47e0-9d15-881d76a047d3",
   "metadata": {},
   "source": [
    "### View the .sbx file"
   ]
  },
  {
   "cell_type": "code",
   "execution_count": null,
   "id": "a3309854-1533-47b2-873d-07e20de9c3b9",
   "metadata": {},
   "outputs": [],
   "source": [
    "directory  = ...  # directory contains the .sbx and .mat output from scanbox\n",
    "sbx_viewer = SBXViewer(directory)\n",
    "\n",
    "# play 100 to 200 frames\n",
    "sbx_viewer.play(slice(100,200), plane=0, channel=0)\n",
    "\n",
    "# save as tiff sequences\n",
    "sbx_viewer.to_tiff(slice(100,200), plane=0, channel=0, output='test.tiff')"
   ]
  },
  {
   "cell_type": "markdown",
   "id": "f6729e35-7a03-412e-8cd3-7e7cee0352af",
   "metadata": {},
   "source": [
    "### Load Suite2p results"
   ]
  },
  {
   "cell_type": "code",
   "execution_count": 4,
   "id": "919e5b5c-1ec9-4b04-9ef1-11d92c4eb5cb",
   "metadata": {},
   "outputs": [
    {
     "name": "stdout",
     "output_type": "stream",
     "text": [
      "['F', 'FNeu', '__annotations__', '__attrs_attrs__', '__attrs_post_init__', '__class__', '__delattr__', '__dir__', '__doc__', '__eq__', '__format__', '__ge__', '__getattribute__', '__getstate__', '__gt__', '__hash__', '__init__', '__init_subclass__', '__le__', '__lt__', '__module__', '__ne__', '__new__', '__reduce__', '__reduce_ex__', '__repr__', '__setattr__', '__setstate__', '__sizeof__', '__slots__', '__str__', '__subclasshook__', '__weakref__', '_check_frame_rate', 'cell_prob', 'directory', 'fs', 'get_rois_pixels', 'has_chan2', 'image_height', 'image_mean', 'image_mean_ch2', 'image_width', 'indicator_tau', 'iscell', 'launch_gui', 'load', 'load_total_neuron_number', 'n_frame', 'n_neurons', 'n_plane', 'n_red_neuron', 'neucoeff', 'nonrigid_x_offsets', 'nonrigid_xy_offsets', 'nonrigid_y_offsets', 'ops', 'prctile_baseline', 'red_cell_prob', 'redcell', 'redcell_threshold', 'rigid_x_offsets', 'rigid_xy_offset', 'rigid_y_offsets', 'runtime_frate_check', 'signal_baseline', 'spks', 'stat', 'window_baseline']\n"
     ]
    }
   ],
   "source": [
    "s2p_dir = ...  # suite2p base directory (*/suite2p/plane*)\n",
    "s2p = Suite2PResult.load(s2p_dir, cell_prob=0.0, channel=0)\n",
    "print(dir(s2p))"
   ]
  },
  {
   "cell_type": "code",
   "execution_count": 5,
   "id": "6679c58a-ccbc-43e1-aad6-2e34a641b24c",
   "metadata": {},
   "outputs": [
    {
     "data": {
      "image/png": "[encoded data removed]",
      "text/plain": [
       "<Figure size 640x480 with 1 Axes>"
      ]
     },
     "metadata": {},
     "output_type": "display_data"
    }
   ],
   "source": [
    "# see ROIs\n",
    "pix = get_soma_pixel(s2p, color_diff=True)\n",
    "pix[pix == 0] = np.nan\n",
    "plt.imshow(pix, cmap='nipy_spectral')\n",
    "plt.show()"
   ]
  }
 ],
 "metadata": {
  "kernelspec": {
   "display_name": "rscvp",
   "language": "python",
   "name": "rscvp"
  },
  "language_info": {
   "codemirror_mode": {
    "name": "ipython",
    "version": 3
   },
   "file_extension": ".py",
   "mimetype": "text/x-python",
   "name": "python",
   "nbconvert_exporter": "python",
   "pygments_lexer": "ipython3",
   "version": "3.9.16"
  }
 },
 "nbformat": 4,
 "nbformat_minor": 5
}
